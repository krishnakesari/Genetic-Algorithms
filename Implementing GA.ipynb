{
 "cells": [
  {
   "cell_type": "code",
   "execution_count": null,
   "metadata": {},
   "outputs": [],
   "source": [
    "import numpy as np\n",
    "import pandas as pd\n",
    "\n",
    "import os"
   ]
  },
  {
   "cell_type": "code",
   "execution_count": null,
   "metadata": {},
   "outputs": [],
   "source": [
    "# Start the population\n",
    "## Two ways to generate population is through random generation and heuristical generation\n",
    "\n",
    "# Random Generation - Subsetting all possible options in Binaries (0,1)\n",
    "# Chromosome\n",
    "# Gene\n",
    "# Population\n",
    "\n",
    "import random\n",
    "best=-100000\n",
    "populations =([[random.randint(0,1) for x in range(6)] for i in range(4)]) # Randomly choosing 6 combinations in 4 sets\n",
    "print(type(populations))\n",
    "parents=[]\n",
    "new_populations = []\n",
    "print(populations)"
   ]
  },
  {
   "cell_type": "code",
   "execution_count": null,
   "metadata": {},
   "outputs": [],
   "source": [
    "# Fitness function\n",
    "\n",
    "## for f(x) = -x^2 + 5 Fitness value is the maximum value and the constrain is 0<= x <= 31 (Because of foursets of chromomes max x = 2^4 = 16 so, f(x) value is -4^2 + 5)\n",
    "\n",
    "#fitness score calculation ............\n",
    "def fitness_score() :\n",
    "    global populations,best\n",
    "    fit_value = []\n",
    "    fit_score=[]\n",
    "    for i in range(4) :\n",
    "        chromosome_value=0\n",
    "        \n",
    "        for j in range(5,0,-1) :\n",
    "            chromosome_value += populations[i][j]*(2**(5-j))\n",
    "        chromosome_value = -1*chromosome_value if populations[i][0]==1 else chromosome_value\n",
    "        print(chromosome_value)\n",
    "        fit_value.append(-(chromosome_value**2) + 5 )\n",
    "    print(fit_value)\n",
    "    fit_value, populations = zip(*sorted(zip(fit_value, populations) , reverse = True))\n",
    "    best= fit_value[0]\n",
    "    \n",
    "fitness_score()"
   ]
  },
  {
   "cell_type": "code",
   "execution_count": null,
   "metadata": {},
   "outputs": [],
   "source": [
    "# Selecting Parents:\n",
    "## Parents are chosen based on the pair of chromosomes with hightest fitness value\n",
    "## Two parent selection methods - 1. Roulette wheel station (Only chromosome with highest fitness value will be selected) 2. Rank Selection\n",
    "\n",
    "def selectParent():\n",
    "    global parents\n",
    "\n",
    "    parents=populations[0:2]\n",
    "    print(type(parents))\n",
    "    print(parents)\n",
    "selectParent()"
   ]
  },
  {
   "cell_type": "code",
   "execution_count": null,
   "metadata": {},
   "outputs": [],
   "source": [
    "# Crossover - (Single-point, tow or multi-point Crossover)\n",
    "## Used to vary programing of the chromosomes from one generation to another by creating children or offsprings\n",
    "## In single point crossover - we first select a point and then exchange these portions divided by this point between parent chromosomes to create offspings\n",
    "## For two point crossover - we select two points and then exchange bits\n",
    "\n",
    "def crossover():\n",
    "    global parents\n",
    "\n",
    "    cross_point = random.randint(0,5)\n",
    "    parents = parents + tuple([(parents[0][0:cross_point + 1] + parents[1][cross_point + 1:6])])\n",
    "    parents = parents + tuple([(parents[1][0:cross_point + 1] + parents[0][cross_point + 1:6])])\n",
    "\n",
    "    print(parents)\n",
    "\n",
    "crossover()"
   ]
  },
  {
   "cell_type": "code",
   "execution_count": null,
   "metadata": {},
   "outputs": [],
   "source": [
    "# Mutation\n",
    "## Adds diversity to the population \n",
    "## 1. Bit Flip mutation 2. Swap mutation 3. Inversion mutation \n",
    "\n",
    "## Bit Flip mutation takes 1 and turns into 0 vice-versa\n",
    "## Swap mutation takes two bits and just swaps them\n",
    "## Inversion mutation just inverses bits (swaps only next bit)\n",
    "\n",
    "def mutation():\n",
    "    global populations, parents\n",
    "    mute = random.randint(0,49)\n",
    "    if mute == 20:\n",
    "        x = random.randint(0,3)\n",
    "        y = random.randint(0,5)\n",
    "        parents[x][y] = 1-parents[x][y]\n",
    "    populations = parents\n",
    "    print(populations)\n",
    "\n",
    "mutation()"
   ]
  },
  {
   "cell_type": "code",
   "execution_count": null,
   "metadata": {
    "tags": [
     "outputPrepend",
     "outputPrepend",
     "outputPrepend",
     "outputPrepend",
     "outputPrepend",
     "outputPrepend",
     "outputPrepend",
     "outputPrepend",
     "outputPrepend"
    ]
   },
   "outputs": [],
   "source": [
    "# Implementation\n",
    "\n",
    "for i in range(1000) :\n",
    "    fitness_score()\n",
    "    selectParent()\n",
    "    crossover()\n",
    "    mutation()\n",
    "print(\"best score :\")\n",
    "print(best)\n",
    "print(\"sequence.......\")\n",
    "print(populations[0])"
   ]
  },
  {
   "cell_type": "code",
   "execution_count": null,
   "metadata": {},
   "outputs": [],
   "source": []
  }
 ],
 "metadata": {
  "language_info": {
   "codemirror_mode": {
    "name": "ipython",
    "version": 3
   },
   "file_extension": ".py",
   "mimetype": "text/x-python",
   "name": "python",
   "nbconvert_exporter": "python",
   "pygments_lexer": "ipython3",
   "version": "3.8.2-final"
  },
  "orig_nbformat": 2,
  "kernelspec": {
   "name": "python38264bitfeaae0ea38f749759f7aabe755a2e156",
   "display_name": "Python 3.8.2 64-bit"
  }
 },
 "nbformat": 4,
 "nbformat_minor": 2
}