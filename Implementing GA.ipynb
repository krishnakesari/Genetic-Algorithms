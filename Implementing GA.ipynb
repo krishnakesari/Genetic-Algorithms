{
 "cells": [
  {
   "cell_type": "code",
   "execution_count": 2,
   "metadata": {},
   "outputs": [],
   "source": [
    "import numpy as np\n",
    "import pandas as pd\n",
    "\n",
    "import os"
   ]
  },
  {
   "cell_type": "code",
   "execution_count": 7,
   "metadata": {},
   "outputs": [
    {
     "output_type": "stream",
     "name": "stdout",
     "text": "<class 'list'>\n[[1, 1, 1, 0, 0, 1], [0, 1, 1, 1, 0, 0], [0, 1, 1, 0, 0, 0], [1, 1, 0, 1, 1, 0]]\n"
    }
   ],
   "source": [
    "# Start the population\n",
    "## Two ways to generate population is through random generation and heuristical generation\n",
    "\n",
    "# Random Generation - Subsetting all possible options in Binaries (0,1)\n",
    "# Chromosome\n",
    "# Gene\n",
    "# Population\n",
    "\n",
    "import random\n",
    "best=-100000\n",
    "populations =([[random.randint(0,1) for x in range(6)] for i in range(4)]) # Randomly choosing 6 combinations in 4 sets\n",
    "print(type(populations))\n",
    "parents=[]\n",
    "new_populations = []\n",
    "print(populations)"
   ]
  },
  {
   "cell_type": "code",
   "execution_count": null,
   "metadata": {},
   "outputs": [],
   "source": [
    "# Fitness function\n",
    "\n",
    "## for f(x) = -x^2 + 5 Fitness value is the maximum value and the constrain is 0<= x <= 31\n"
   ]
  }
 ],
 "metadata": {
  "language_info": {
   "codemirror_mode": {
    "name": "ipython",
    "version": 3
   },
   "file_extension": ".py",
   "mimetype": "text/x-python",
   "name": "python",
   "nbconvert_exporter": "python",
   "pygments_lexer": "ipython3",
   "version": "3.8.2-final"
  },
  "orig_nbformat": 2,
  "kernelspec": {
   "name": "python38264bitfeaae0ea38f749759f7aabe755a2e156",
   "display_name": "Python 3.8.2 64-bit"
  }
 },
 "nbformat": 4,
 "nbformat_minor": 2
}